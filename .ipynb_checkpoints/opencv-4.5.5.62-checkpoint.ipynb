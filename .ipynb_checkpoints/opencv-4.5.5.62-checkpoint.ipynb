{
 "cells": [
  {
   "cell_type": "code",
   "execution_count": 3,
   "metadata": {
    "ExecuteTime": {
     "end_time": "2022-02-03T13:21:44.146658Z",
     "start_time": "2022-02-03T13:21:43.562598Z"
    }
   },
   "outputs": [],
   "source": [
    "import cv2\n",
    "import matplotlib.pyplot as plt\n",
    "import numpy as np\n",
    "# %matplotlib inline\n",
    "# img=cv2.imread(\"2.jpg\")"
   ]
  },
  {
   "cell_type": "code",
   "execution_count": 2,
   "metadata": {},
   "outputs": [
    {
     "data": {
      "text/plain": [
       "array([[[248,  62, 124],\n",
       "        [248,  62, 124],\n",
       "        [248,  62, 124],\n",
       "        ...,\n",
       "        [197, 224, 237],\n",
       "        [197, 224, 237],\n",
       "        [197, 224, 237]],\n",
       "\n",
       "       [[248,  62, 124],\n",
       "        [248,  62, 124],\n",
       "        [248,  62, 124],\n",
       "        ...,\n",
       "        [197, 224, 237],\n",
       "        [197, 224, 237],\n",
       "        [197, 224, 237]],\n",
       "\n",
       "       [[248,  62, 124],\n",
       "        [248,  62, 124],\n",
       "        [248,  62, 124],\n",
       "        ...,\n",
       "        [197, 224, 237],\n",
       "        [197, 224, 237],\n",
       "        [197, 224, 237]],\n",
       "\n",
       "       ...,\n",
       "\n",
       "       [[ 43,   3,   3],\n",
       "        [ 43,   3,   3],\n",
       "        [ 43,   3,   3],\n",
       "        ...,\n",
       "        [  4,   5,  60],\n",
       "        [  4,   5,  60],\n",
       "        [  4,   5,  60]],\n",
       "\n",
       "       [[ 43,   3,   3],\n",
       "        [ 43,   3,   3],\n",
       "        [ 43,   3,   3],\n",
       "        ...,\n",
       "        [  4,   5,  60],\n",
       "        [  4,   5,  60],\n",
       "        [  4,   5,  60]],\n",
       "\n",
       "       [[ 43,   3,   3],\n",
       "        [ 43,   3,   3],\n",
       "        [ 43,   3,   3],\n",
       "        ...,\n",
       "        [  4,   5,  60],\n",
       "        [  4,   5,  60],\n",
       "        [  4,   5,  60]]], dtype=uint8)"
      ]
     },
     "execution_count": 2,
     "metadata": {},
     "output_type": "execute_result"
    }
   ],
   "source": [
    "img"
   ]
  },
  {
   "cell_type": "code",
   "execution_count": 16,
   "metadata": {
    "ExecuteTime": {
     "end_time": "2022-02-03T04:41:43.484965Z",
     "start_time": "2022-02-03T04:41:42.290634Z"
    }
   },
   "outputs": [],
   "source": [
    "cv2.imshow(\"image\",img)\n",
    "cv2.waitKey(0)\n",
    "cv2.destroyAllWindows()"
   ]
  },
  {
   "cell_type": "code",
   "execution_count": null,
   "metadata": {},
   "outputs": [],
   "source": []
  },
  {
   "cell_type": "code",
   "execution_count": 6,
   "metadata": {
    "ExecuteTime": {
     "end_time": "2022-02-03T04:27:17.384015Z",
     "start_time": "2022-02-03T04:27:17.376997Z"
    }
   },
   "outputs": [],
   "source": [
    "def cv_show(name, img):\n",
    "    cv2.imshow(name, img)\n",
    "    cv2.waitKey(0)\n",
    "    cv2.destroyAllWindows()"
   ]
  },
  {
   "cell_type": "code",
   "execution_count": 14,
   "metadata": {
    "ExecuteTime": {
     "end_time": "2022-02-03T04:41:00.918197Z",
     "start_time": "2022-02-03T04:41:00.900904Z"
    }
   },
   "outputs": [
    {
     "data": {
      "text/plain": [
       "(2989, 2802, 3)"
      ]
     },
     "execution_count": 14,
     "metadata": {},
     "output_type": "execute_result"
    }
   ],
   "source": [
    "img.shape"
   ]
  },
  {
   "cell_type": "code",
   "execution_count": 23,
   "metadata": {
    "ExecuteTime": {
     "end_time": "2022-02-03T04:44:09.135325Z",
     "start_time": "2022-02-03T04:44:09.039205Z"
    }
   },
   "outputs": [
    {
     "data": {
      "text/plain": [
       "array([[117, 117, 117, ..., 229, 229, 225],\n",
       "       [117, 117, 117, ..., 206, 188, 170],\n",
       "       [117, 117, 139, ..., 170, 170, 170],\n",
       "       ...,\n",
       "       [ 46,  46,  46, ...,  84,  84,  84],\n",
       "       [ 46,  46,  46, ...,  84,  84,  84],\n",
       "       [ 46,  46,  46, ...,  84,  84,  84]], dtype=uint8)"
      ]
     },
     "execution_count": 23,
     "metadata": {},
     "output_type": "execute_result"
    }
   ],
   "source": [
    "img1 = cv2.imread(\"2.jpg\",cv2.IMREAD_GRAYSCALE)\n",
    "img1"
   ]
  },
  {
   "cell_type": "code",
   "execution_count": 25,
   "metadata": {
    "ExecuteTime": {
     "end_time": "2022-02-03T04:44:18.789716Z",
     "start_time": "2022-02-03T04:44:18.779582Z"
    }
   },
   "outputs": [
    {
     "data": {
      "text/plain": [
       "(2989, 2802)"
      ]
     },
     "execution_count": 25,
     "metadata": {},
     "output_type": "execute_result"
    }
   ],
   "source": [
    "img1.shape"
   ]
  },
  {
   "cell_type": "code",
   "execution_count": 27,
   "metadata": {
    "ExecuteTime": {
     "end_time": "2022-02-03T04:51:58.959162Z",
     "start_time": "2022-02-03T04:51:52.443030Z"
    }
   },
   "outputs": [],
   "source": [
    "cv_show(\"he\",img)"
   ]
  },
  {
   "cell_type": "code",
   "execution_count": 4,
   "metadata": {
    "ExecuteTime": {
     "end_time": "2022-02-03T13:21:51.218691Z",
     "start_time": "2022-02-03T13:21:51.194688Z"
    }
   },
   "outputs": [],
   "source": [
    "vc = cv2.VideoCapture(\"nba.mp4\")"
   ]
  },
  {
   "cell_type": "code",
   "execution_count": 5,
   "metadata": {
    "ExecuteTime": {
     "end_time": "2022-02-03T13:21:55.810225Z",
     "start_time": "2022-02-03T13:21:55.753902Z"
    }
   },
   "outputs": [],
   "source": [
    "if vc.isOpened():\n",
    "    open , frame = vc.read()\n",
    "else:\n",
    "    open = False"
   ]
  },
  {
   "cell_type": "code",
   "execution_count": 9,
   "metadata": {
    "ExecuteTime": {
     "end_time": "2022-02-03T13:22:55.445474Z",
     "start_time": "2022-02-03T13:22:55.429453Z"
    }
   },
   "outputs": [],
   "source": [
    "while open:\n",
    "    ret , frame = vc.read()\n",
    "    if frame is None:\n",
    "        break\n",
    "    if ret == True:\n",
    "        gray = cv2.cvtColor(frame, cv2.COLOR_BGR2GRAY)\n",
    "        cv2.imshow(\"result\",gray)\n",
    "        if cv2.waitKey(100) & 0xFF == 27:\n",
    "            break\n",
    "vc.release()\n",
    "cv2.destroyAllWindows()"
   ]
  },
  {
   "cell_type": "code",
   "execution_count": null,
   "metadata": {},
   "outputs": [],
   "source": []
  }
 ],
 "metadata": {
  "kernelspec": {
   "display_name": "Python 3",
   "language": "python",
   "name": "python3"
  },
  "language_info": {
   "codemirror_mode": {
    "name": "ipython",
    "version": 3
   },
   "file_extension": ".py",
   "mimetype": "text/x-python",
   "name": "python",
   "nbconvert_exporter": "python",
   "pygments_lexer": "ipython3",
   "version": "3.8.5"
  }
 },
 "nbformat": 4,
 "nbformat_minor": 4
}
