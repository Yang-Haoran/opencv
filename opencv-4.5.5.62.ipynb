{
 "cells": [
  {
   "cell_type": "code",
   "execution_count": 3,
   "metadata": {
    "ExecuteTime": {
     "end_time": "2022-02-03T13:21:44.146658Z",
     "start_time": "2022-02-03T13:21:43.562598Z"
    }
   },
   "outputs": [],
   "source": [
    "import cv2\n",
    "import matplotlib.pyplot as plt\n",
    "import numpy as np\n",
    "# %matplotlib inline\n",
    "# img=cv2.imread(\"2.jpg\")\n",
    "# asda\n",
    "#dadsa"
   ]
  },
  {
   "cell_type": "code",
   "execution_count": 2,
   "metadata": {},
   "outputs": [
    {
     "data": {
      "text/plain": [
       "array([[[248,  62, 124],\n",
       "        [248,  62, 124],\n",
       "        [248,  62, 124],\n",
       "        ...,\n",
       "        [197, 224, 237],\n",
       "        [197, 224, 237],\n",
       "        [197, 224, 237]],\n",
       "\n",
       "       [[248,  62, 124],\n",
       "        [248,  62, 124],\n",
       "        [248,  62, 124],\n",
       "        ...,\n",
       "        [197, 224, 237],\n",
       "        [197, 224, 237],\n",
       "        [197, 224, 237]],\n",
       "\n",
       "       [[248,  62, 124],\n",
       "        [248,  62, 124],\n",
       "        [248,  62, 124],\n",
       "        ...,\n",
       "        [197, 224, 237],\n",
       "        [197, 224, 237],\n",
       "        [197, 224, 237]],\n",
       "\n",
       "       ...,\n",
       "\n",
       "       [[ 43,   3,   3],\n",
       "        [ 43,   3,   3],\n",
       "        [ 43,   3,   3],\n",
       "        ...,\n",
       "        [  4,   5,  60],\n",
       "        [  4,   5,  60],\n",
       "        [  4,   5,  60]],\n",
       "\n",
       "       [[ 43,   3,   3],\n",
       "        [ 43,   3,   3],\n",
       "        [ 43,   3,   3],\n",
       "        ...,\n",
       "        [  4,   5,  60],\n",
       "        [  4,   5,  60],\n",
       "        [  4,   5,  60]],\n",
       "\n",
       "       [[ 43,   3,   3],\n",
       "        [ 43,   3,   3],\n",
       "        [ 43,   3,   3],\n",
       "        ...,\n",
       "        [  4,   5,  60],\n",
       "        [  4,   5,  60],\n",
       "        [  4,   5,  60]]], dtype=uint8)"
      ]
     },
     "execution_count": 2,
     "metadata": {},
     "output_type": "execute_result"
    }
   ],
   "source": [
    "img"
   ]
  },
  {
   "cell_type": "code",
   "execution_count": 16,
   "metadata": {
    "ExecuteTime": {
     "end_time": "2022-02-03T04:41:43.484965Z",
     "start_time": "2022-02-03T04:41:42.290634Z"
    }
   },
   "outputs": [],
   "source": [
    "cv2.imshow(\"image\",img)\n",
    "cv2.waitKey(0)\n",
    "cv2.destroyAllWindows()"
   ]
  },
  {
   "cell_type": "code",
   "execution_count": 10,
   "metadata": {
    "ExecuteTime": {
     "end_time": "2022-02-03T13:24:36.117130Z",
     "start_time": "2022-02-03T13:24:36.101078Z"
    }
   },
   "outputs": [],
   "source": [
    "def cv_show(name, img):\n",
    "    cv2.imshow(name, img)\n",
    "    cv2.waitKey(0)\n",
    "    cv2.destroyAllWindows()"
   ]
  },
  {
   "cell_type": "code",
   "execution_count": 14,
   "metadata": {
    "ExecuteTime": {
     "end_time": "2022-02-03T04:41:00.918197Z",
     "start_time": "2022-02-03T04:41:00.900904Z"
    }
   },
   "outputs": [
    {
     "data": {
      "text/plain": [
       "(2989, 2802, 3)"
      ]
     },
     "execution_count": 14,
     "metadata": {},
     "output_type": "execute_result"
    }
   ],
   "source": [
    "img.shape"
   ]
  },
  {
   "cell_type": "code",
   "execution_count": 23,
   "metadata": {
    "ExecuteTime": {
     "end_time": "2022-02-03T04:44:09.135325Z",
     "start_time": "2022-02-03T04:44:09.039205Z"
    }
   },
   "outputs": [
    {
     "data": {
      "text/plain": [
       "array([[117, 117, 117, ..., 229, 229, 225],\n",
       "       [117, 117, 117, ..., 206, 188, 170],\n",
       "       [117, 117, 139, ..., 170, 170, 170],\n",
       "       ...,\n",
       "       [ 46,  46,  46, ...,  84,  84,  84],\n",
       "       [ 46,  46,  46, ...,  84,  84,  84],\n",
       "       [ 46,  46,  46, ...,  84,  84,  84]], dtype=uint8)"
      ]
     },
     "execution_count": 23,
     "metadata": {},
     "output_type": "execute_result"
    }
   ],
   "source": [
    "img1 = cv2.imread(\"2.jpg\",cv2.IMREAD_GRAYSCALE)\n",
    "img1"
   ]
  },
  {
   "cell_type": "code",
   "execution_count": 25,
   "metadata": {
    "ExecuteTime": {
     "end_time": "2022-02-03T04:44:18.789716Z",
     "start_time": "2022-02-03T04:44:18.779582Z"
    }
   },
   "outputs": [
    {
     "data": {
      "text/plain": [
       "(2989, 2802)"
      ]
     },
     "execution_count": 25,
     "metadata": {},
     "output_type": "execute_result"
    }
   ],
   "source": [
    "img1.shape"
   ]
  },
  {
   "cell_type": "code",
   "execution_count": 27,
   "metadata": {
    "ExecuteTime": {
     "end_time": "2022-02-03T04:51:58.959162Z",
     "start_time": "2022-02-03T04:51:52.443030Z"
    }
   },
   "outputs": [],
   "source": [
    "cv_show(\"he\",img)"
   ]
  },
  {
   "cell_type": "code",
   "execution_count": 4,
   "metadata": {
    "ExecuteTime": {
     "end_time": "2022-02-03T13:21:51.218691Z",
     "start_time": "2022-02-03T13:21:51.194688Z"
    }
   },
   "outputs": [],
   "source": [
    "vc = cv2.VideoCapture(\"nba.mp4\")"
   ]
  },
  {
   "cell_type": "code",
   "execution_count": 5,
   "metadata": {
    "ExecuteTime": {
     "end_time": "2022-02-03T13:21:55.810225Z",
     "start_time": "2022-02-03T13:21:55.753902Z"
    }
   },
   "outputs": [],
   "source": [
    "if vc.isOpened():\n",
    "    open , frame = vc.read()\n",
    "else:\n",
    "    open = False"
   ]
  },
  {
   "cell_type": "code",
   "execution_count": 9,
   "metadata": {
    "ExecuteTime": {
     "end_time": "2022-02-03T13:22:55.445474Z",
     "start_time": "2022-02-03T13:22:55.429453Z"
    }
   },
   "outputs": [],
   "source": [
    "while open:\n",
    "    ret , frame = vc.read()\n",
    "    if frame is None:\n",
    "        break\n",
    "    if ret == True:\n",
    "        gray = cv2.cvtColor(frame, cv2.COLOR_BGR2GRAY)\n",
    "        cv2.imshow(\"result\",gray)\n",
    "        if cv2.waitKey(100) & 0xFF == 27:\n",
    "            break\n",
    "vc.release()\n",
    "cv2.destroyAllWindows()"
   ]
  },
  {
   "cell_type": "code",
   "execution_count": 15,
   "metadata": {
    "ExecuteTime": {
     "end_time": "2022-02-03T13:27:33.316762Z",
     "start_time": "2022-02-03T13:27:23.085401Z"
    }
   },
   "outputs": [],
   "source": [
    "img = cv2.imread(\"1.png\")\n",
    "rick = img[1800:4000,1800:4000]\n",
    "cv_show(\"rick\",rick)"
   ]
  },
  {
   "cell_type": "code",
   "execution_count": 16,
   "metadata": {
    "ExecuteTime": {
     "end_time": "2022-02-03T13:29:17.585955Z",
     "start_time": "2022-02-03T13:29:17.396725Z"
    }
   },
   "outputs": [
    {
     "data": {
      "text/plain": [
       "array([[248, 248, 248, ..., 197, 197, 197],\n",
       "       [248, 248, 248, ..., 197, 197, 197],\n",
       "       [248, 248, 248, ..., 197, 197, 197],\n",
       "       ...,\n",
       "       [ 43,  43,  43, ...,   4,   4,   4],\n",
       "       [ 43,  43,  43, ...,   4,   4,   4],\n",
       "       [ 43,  43,  43, ...,   4,   4,   4]], dtype=uint8)"
      ]
     },
     "execution_count": 16,
     "metadata": {},
     "output_type": "execute_result"
    }
   ],
   "source": [
    "b,g,r = cv2.split(img)\n",
    "b"
   ]
  },
  {
   "cell_type": "code",
   "execution_count": 20,
   "metadata": {
    "ExecuteTime": {
     "end_time": "2022-02-03T13:31:09.243481Z",
     "start_time": "2022-02-03T13:31:08.262172Z"
    }
   },
   "outputs": [],
   "source": [
    "cv_show(\"b\",b)"
   ]
  },
  {
   "cell_type": "code",
   "execution_count": 21,
   "metadata": {
    "ExecuteTime": {
     "end_time": "2022-02-03T13:31:48.762329Z",
     "start_time": "2022-02-03T13:31:48.698299Z"
    }
   },
   "outputs": [
    {
     "data": {
      "text/plain": [
       "(4500, 8000, 3)"
      ]
     },
     "execution_count": 21,
     "metadata": {},
     "output_type": "execute_result"
    }
   ],
   "source": [
    "img = cv2.merge((b,g,r))\n",
    "img.shape"
   ]
  },
  {
   "cell_type": "code",
   "execution_count": 22,
   "metadata": {
    "ExecuteTime": {
     "end_time": "2022-02-03T13:34:25.177324Z",
     "start_time": "2022-02-03T13:34:22.141792Z"
    }
   },
   "outputs": [],
   "source": [
    "#  只保留r\n",
    "# 其余0，1，都设置为了0，所以为红颜色的了 \n",
    "copy = img.copy()\n",
    "copy[:,:,0] = 0\n",
    "copy[:,:,1] = 1\n",
    "cv_show(\"\",copy)"
   ]
  },
  {
   "cell_type": "code",
   "execution_count": 26,
   "metadata": {
    "ExecuteTime": {
     "end_time": "2022-02-03T13:50:05.308735Z",
     "start_time": "2022-02-03T13:49:55.367022Z"
    }
   },
   "outputs": [],
   "source": [
    "img2 = cv2.resize(img,(500,500))\n",
    "img2.shape\n",
    "cv_show(\"\",img2)"
   ]
  },
  {
   "cell_type": "code",
   "execution_count": 1,
   "metadata": {
    "ExecuteTime": {
     "end_time": "2022-02-04T02:40:20.495670Z",
     "start_time": "2022-02-04T02:40:20.024735Z"
    }
   },
   "outputs": [
    {
     "name": "stdout",
     "output_type": "stream",
     "text": [
      "0.0102405\n"
     ]
    }
   ],
   "source": [
    "import cv2\n",
    "\n",
    "# 开始计时\n",
    "start = cv2.getTickCount()\n",
    "\n",
    "# 读入一张图片\n",
    "img = cv2.imread('lena.jpg')\n",
    "\n",
    "# 停止计时\n",
    "end = cv2.getTickCount()\n",
    "\n",
    "# 单位：s\n",
    "print((end - start) / cv2.getTickFrequency())"
   ]
  },
  {
   "cell_type": "code",
   "execution_count": null,
   "metadata": {},
   "outputs": [],
   "source": []
  }
 ],
 "metadata": {
  "kernelspec": {
   "display_name": "Python 3",
   "language": "python",
   "name": "python3"
  },
  "language_info": {
   "codemirror_mode": {
    "name": "ipython",
    "version": 3
   },
   "file_extension": ".py",
   "mimetype": "text/x-python",
   "name": "python",
   "nbconvert_exporter": "python",
   "pygments_lexer": "ipython3",
   "version": "3.8.5"
  }
 },
 "nbformat": 4,
 "nbformat_minor": 4
}
